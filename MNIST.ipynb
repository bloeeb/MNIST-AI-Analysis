{
 "cells": [
  {
   "cell_type": "code",
   "execution_count": 1,
   "metadata": {},
   "outputs": [],
   "source": [
    "import numpy as np\n",
    "import tensorflow as tf\n",
    "\n",
    "import tensorflow_datasets as tfds #tfds contains many more datasets besides MNIST to explore and use"
   ]
  },
  {
   "cell_type": "code",
   "execution_count": 2,
   "metadata": {},
   "outputs": [],
   "source": [
    "# with_info=True provides tuple with some basic information \n",
    "# as_supervised=True loads the data into a 2-tuple structure(input,target)\n",
    "\n",
    "mnist_dataset, mnist_info = tfds.load(name='mnist', with_info=True, as_supervised=True) \n"
   ]
  },
  {
   "cell_type": "code",
   "execution_count": 3,
   "metadata": {},
   "outputs": [],
   "source": [
    "# MNIST dataset does not have validation set, hence it needs to be created from training set(its the bigger one)\n",
    "\n",
    "mnist_train, mnist_test = mnist_dataset['train'], mnist_dataset['test']\n",
    "\n",
    "num_validation_samples = 0.1 * mnist_info.splits['train'].num_examples\n",
    "num_validation_samples = tf.cast(num_validation_samples, tf.int64)\n",
    "\n",
    "num_test_samples = mnist_info.splits['test'].num_examples\n",
    "num_test_samples = tf.cast(num_test_samples, tf.int64)"
   ]
  },
  {
   "cell_type": "code",
   "execution_count": 4,
   "metadata": {},
   "outputs": [],
   "source": [
    "# We want to scale the data in such a way that it is more numerically stable such as all values should be between 0 and 1\n",
    "\n",
    "def scale(image, label):\n",
    "    image = tf.cast(image, tf.float32)\n",
    "    image /= 255. # as each pixel is between 0 and 255, dividing by 255 will make all values be somewhere between 0 and 1\n",
    "    return image, label"
   ]
  },
  {
   "cell_type": "code",
   "execution_count": 5,
   "metadata": {},
   "outputs": [],
   "source": [
    "# Now that we have a scaling function the dataset needs to be transformed\n",
    "\n",
    "scaled_train_and_validation_data = mnist_train.map(scale)\n",
    "\n",
    "test_data = mnist_test.map(scale)"
   ]
  },
  {
   "cell_type": "code",
   "execution_count": 6,
   "metadata": {},
   "outputs": [],
   "source": [
    "# Now the dataset should be shuffled as it may have been sorted or in a certain order\n",
    "# Not shuffling might lead to wrong interpretations as each bach might just ressemble only one number\n",
    "\n",
    "BUFFER_SIZE = 10000 # When dealing with big datasets, not all data can be put into memory and needs to be buffered partially\n",
    "\n",
    "shuffled_train_and_validation_data = scaled_train_and_validation_data.shuffle(BUFFER_SIZE)\n",
    "\n",
    "validation_data = shuffled_train_and_validation_data.take(num_validation_samples)\n",
    "train_data = shuffled_train_and_validation_data.skip(num_validation_samples)\n",
    "\n"
   ]
  },
  {
   "cell_type": "code",
   "execution_count": 7,
   "metadata": {},
   "outputs": [],
   "source": [
    "# As we want to use the SGD we need to split our dataset into different batches\n",
    "\n",
    "BATCH_SIZE = 100\n",
    "\n",
    "train_data = train_data.batch(BATCH_SIZE) # Tells the model how many samples it should take into each batch\n",
    "validation_data = validation_data.batch(num_validation_samples) # As we don't backpropagate for the validation set we can use the hole set to calculate the exact values\n",
    "test_data = test_data.batch(num_test_samples)"
   ]
  },
  {
   "cell_type": "code",
   "execution_count": 8,
   "metadata": {},
   "outputs": [],
   "source": [
    "# As our dataset is in a 2-tuple format we must extract and convert the validation inputs and targets appropriately\n",
    "\n",
    "validation_inputs, validation_targets = next(iter(validation_data))\n"
   ]
  },
  {
   "cell_type": "markdown",
   "metadata": {},
   "source": [
    "# Model"
   ]
  },
  {
   "cell_type": "code",
   "execution_count": 9,
   "metadata": {},
   "outputs": [],
   "source": [
    "input_size = 784 # Our input is 28x28x1\n",
    "output_size = 10\n",
    "hidden_layer_size = 800 # Each hidden layer can have its own width, might lead to better result, feel free to play around with\n",
    "\n",
    "model = tf.keras.Sequential([\n",
    "                            tf.keras.layers.Flatten(input_shape=(28,28,1)),\n",
    "                            tf.keras.layers.Dense(hidden_layer_size, activation='relu'), # First hidden layer\n",
    "                            tf.keras.layers.Dense(hidden_layer_size, activation='relu'),  # Second hidden layer\n",
    "                            tf.keras.layers.Dense(output_size, activation='softmax') # Output layer\n",
    "                            ])\n"
   ]
  },
  {
   "cell_type": "code",
   "execution_count": 10,
   "metadata": {},
   "outputs": [],
   "source": [
    "# Model needs to be compiled\n",
    "\n",
    "model.compile(optimizer='adam', loss='sparse_categorical_crossentropy', metrics=['accuracy']) # Accuracy calculated throughout each epoch"
   ]
  },
  {
   "cell_type": "code",
   "execution_count": 11,
   "metadata": {},
   "outputs": [
    {
     "name": "stdout",
     "output_type": "stream",
     "text": [
      "Epoch 1/5\n",
      "540/540 - 28s - loss: 0.2013 - accuracy: 0.9387 - val_loss: 0.0000e+00 - val_accuracy: 0.0000e+00\n",
      "Epoch 2/5\n",
      "540/540 - 26s - loss: 0.0764 - accuracy: 0.9767 - val_loss: 0.0828 - val_accuracy: 0.9755\n",
      "Epoch 3/5\n",
      "540/540 - 26s - loss: 0.0513 - accuracy: 0.9839 - val_loss: 0.0707 - val_accuracy: 0.9797\n",
      "Epoch 4/5\n",
      "540/540 - 26s - loss: 0.0387 - accuracy: 0.9873 - val_loss: 0.0546 - val_accuracy: 0.9833\n",
      "Epoch 5/5\n",
      "540/540 - 26s - loss: 0.0329 - accuracy: 0.9890 - val_loss: 0.0370 - val_accuracy: 0.9877\n"
     ]
    },
    {
     "data": {
      "text/plain": [
       "<tensorflow.python.keras.callbacks.History at 0x1bf558da388>"
      ]
     },
     "execution_count": 11,
     "metadata": {},
     "output_type": "execute_result"
    }
   ],
   "source": [
    "# Next the model needs to be trained\n",
    "\n",
    "NUM_EPOCHS = 5 # Sets the number of epochs we will do\n",
    "\n",
    "model.fit(train_data, epochs = NUM_EPOCHS, validation_data=(validation_inputs, validation_targets), verbose=2, validation_steps=10) # verbose=2 makes sure only the most important information is received per epoch\n"
   ]
  },
  {
   "cell_type": "code",
   "execution_count": 12,
   "metadata": {},
   "outputs": [
    {
     "name": "stdout",
     "output_type": "stream",
     "text": [
      "1/1 [==============================] - 4s 4s/step - loss: 0.0738 - accuracy: 0.9781\n",
      "Test loss: 0.07. Test accuracy: 97.81%\n"
     ]
    }
   ],
   "source": [
    "# Last but not least the model needs to be used on the test data\n",
    "# The hyperparameters have been adapted to the validation set hence possibly leading to overfitting to the validation set\n",
    "# The test set is an entirely unknown set and after testing the model should not be adjusted in order to prevent fitting the test set\n",
    "\n",
    "test_loss, test_accuracy = model.evaluate(test_data)\n",
    "\n",
    "# Getting a test accuracy close to val_accuracy shows that the model has not been overfitted\n",
    "\n",
    "print('Test loss: {0:.2f}. Test accuracy: {1:.2f}%'.format(test_loss, test_accuracy*100.)) "
   ]
  }
 ],
 "metadata": {
  "kernelspec": {
   "display_name": "Python [conda env:py3-TF2]",
   "language": "python",
   "name": "conda-env-py3-TF2-py"
  },
  "language_info": {
   "codemirror_mode": {
    "name": "ipython",
    "version": 3
   },
   "file_extension": ".py",
   "mimetype": "text/x-python",
   "name": "python",
   "nbconvert_exporter": "python",
   "pygments_lexer": "ipython3",
   "version": "3.7.5"
  }
 },
 "nbformat": 4,
 "nbformat_minor": 2
}
